{
 "cells": [
  {
   "cell_type": "code",
   "execution_count": 1,
   "metadata": {},
   "outputs": [],
   "source": [
    "import pandas as pd"
   ]
  },
  {
   "cell_type": "markdown",
   "metadata": {},
   "source": [
    "# Pocket Guidelines Validation\n",
    "Validating the ranges described in the Pocket Guidelines. Initially the idea was to also validate decision trees but the dataset does not contain all variables for the decision trees in the guidelines. Note the ranges in the dataset are measured after preprocessing (adjusting for magnitude mismatches in the data entry)\n"
   ]
  },
  {
   "cell_type": "code",
   "execution_count": 13,
   "metadata": {},
   "outputs": [],
   "source": [
    "preprocessed_normal_cohort_csv_path = \"../../preprocessed_normal_cohort_echo_reports.csv\"\n",
    "df = pd.read_csv(preprocessed_normal_cohort_csv_path)\n",
    "df = df.drop('Unnamed: 0', axis=1)\n",
    "\n",
    "numerical_df = df.select_dtypes('number')\n",
    "\n",
    "statistics = pd.DataFrame()\n",
    "statistics['mean'] = numerical_df.apply(lambda series: series.mean())\n",
    "statistics['std'] = numerical_df.apply(lambda series: series.std())\n",
    "\n",
    "statistics['range'] = statistics.apply(lambda row: (round(row['mean'] - 2*row['std'],0), round(row['mean'] + 2*row['std'], 0)),axis=1)\n",
    "\n",
    "statistics.round(2).to_csv(\"statistics.csv\")\n"
   ]
  },
  {
   "cell_type": "markdown",
   "metadata": {},
   "source": [
    "Calculate LVMMI normal range from values given in Pocket Guidelines.\n",
    "\n",
    "Calculated as:\n",
    "LVMMI = LVM (left ventricular mass)/body surface area\n",
    "\n",
    "LVM  =  0.8{1.04[([LVEDD + Septum + Hinterwand]^3 - LVEDD^3)]} + 0.6\n",
    "\n",
    "LVEDD = LV end-diastolic dimension (mm)\n",
    "Septum at end-diastole (mm)\n",
    "Hinterwand at end-diastole (mm)\n"
   ]
  },
  {
   "cell_type": "code",
   "execution_count": 11,
   "metadata": {},
   "outputs": [
    {
     "name": "stdout",
     "output_type": "stream",
     "text": [
      "(37.8457976470588, 118.43111111111112)\n"
     ]
    }
   ],
   "source": [
    "septum = (0.6,1.0)\n",
    "hinterwand = (0.6,1.0)\n",
    "EDD = (4.0,5.5)\n",
    "body_surface_are = (1.70,1.80)\n",
    "LVM_low = 0.8 * (1.04 *(((EDD[0] + septum[0] + hinterwand[0])**3 - EDD[0]**3))) + 0.6\n",
    "LVM_high = 0.8 * (1.04 *(((EDD[1] + septum[1] + hinterwand[1])**3 - EDD[1]**3))) + 0.6\n",
    "\n",
    "LVMMI_low = LVM_low / body_surface_are[0]\n",
    "LVMMI_high = LVM_high / body_surface_are[1]\n",
    "\n",
    "LVMMI = (LVMMI_low, LVMMI_high)\n",
    "print(LVMMI)"
   ]
  }
 ],
 "metadata": {
  "kernelspec": {
   "display_name": "Python 3.9.13 ('base')",
   "language": "python",
   "name": "python3"
  },
  "language_info": {
   "codemirror_mode": {
    "name": "ipython",
    "version": 3
   },
   "file_extension": ".py",
   "mimetype": "text/x-python",
   "name": "python",
   "nbconvert_exporter": "python",
   "pygments_lexer": "ipython3",
   "version": "3.9.13 (main, Aug 25 2022, 18:29:29) \n[Clang 12.0.0 ]"
  },
  "orig_nbformat": 4,
  "vscode": {
   "interpreter": {
    "hash": "3067ead486e059ec00ffe7555bdb889e6e264a24dc711bf108106cc7baee8d5d"
   }
  }
 },
 "nbformat": 4,
 "nbformat_minor": 2
}
